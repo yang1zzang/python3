{
  "nbformat": 4,
  "nbformat_minor": 0,
  "metadata": {
    "colab": {
      "provenance": []
    },
    "kernelspec": {
      "name": "python3",
      "display_name": "Python 3"
    },
    "language_info": {
      "name": "python"
    }
  },
  "cells": [
    {
      "cell_type": "markdown",
      "source": [
        "#일반적인 print문\n",
        "출력할 문자열을 감싸는 기호\n",
        "\n",
        "콤마(,)와 더하기(+)의 차이점"
      ],
      "metadata": {
        "id": "kdxUYU0KpdLJ"
      }
    },
    {
      "cell_type": "code",
      "execution_count": null,
      "metadata": {
        "id": "OaEgS2_hVtME"
      },
      "outputs": [],
      "source": [
        "print('Hello Python!')\n",
        "print(\"Hello Python!\")\n",
        "print('Hello \"Python\"')\n",
        "print(\"Hello 'Python'\")\n",
        "print('Hello', 'Python!')\n",
        "print('Hello' + 'Python!')"
      ]
    },
    {
      "cell_type": "markdown",
      "source": [
        "end 인자와 sep인자의 사용"
      ],
      "metadata": {
        "id": "31whnvToqFng"
      }
    },
    {
      "cell_type": "code",
      "source": [
        "print('Hello', end=' ')\n",
        "print('Python')\n",
        "print('Hello', end='&&&')\n",
        "print('Python')\n",
        "print('Hello', 'Python', sep='#')"
      ],
      "metadata": {
        "id": "4eIODJoUVyMs"
      },
      "execution_count": null,
      "outputs": []
    },
    {
      "cell_type": "markdown",
      "source": [
        "% 기호를 사용하여 변수 값을 출력할 수 있다.\n",
        "%d 정수, %f 실수, %s 문자열\n",
        "%5.2f 처럼 출력하는 모양을 지정할 수 있다."
      ],
      "metadata": {
        "id": "Y3RveFnNq3CG"
      }
    },
    {
      "cell_type": "code",
      "source": [
        "#변수명으로 대입 가능\n",
        "s='number : {num}, gender : {gen}'.format(num=1234,gen='남')\n",
        "print(s)"
      ],
      "metadata": {
        "id": "EYXHA2SgWBy7"
      },
      "execution_count": null,
      "outputs": []
    },
    {
      "cell_type": "code",
      "source": [
        "# 인덱스를 입력하지 않으면?\n",
        "s='name : {}, city : {}'.format('BlockDMask','seoul')\n",
        "print(s)\n"
      ],
      "metadata": {
        "id": "FXBbIHrGWFnm"
      },
      "execution_count": null,
      "outputs": []
    },
    {
      "cell_type": "code",
      "source": [
        "# 인덱스 순서가 바뀌면?\n",
        "s='song1 : {1}, song2 : {0}'.format('nunu nana','ice cream')\n",
        "print(s)\n"
      ],
      "metadata": {
        "id": "1rGV853lWGTy"
      },
      "execution_count": null,
      "outputs": []
    },
    {
      "cell_type": "code",
      "source": [
        "# 인덱스를 중복해서 입력하면?\n",
        "s='test1 : {0}, test2 : {1}, test3 : {0}'.format('인덱스0','인덱스1')\n",
        "print(s)"
      ],
      "metadata": {
        "id": "tDQK_EF7WMZL"
      },
      "execution_count": null,
      "outputs": []
    },
    {
      "cell_type": "code",
      "source": [
        "# 중괄호가 나오게 하려면?\n",
        "s='Format example. {{}}, {}'.format('test')\n",
        "print(s)"
      ],
      "metadata": {
        "id": "eBliYWowWWtx"
      },
      "execution_count": null,
      "outputs": []
    },
    {
      "cell_type": "code",
      "source": [
        "# 중괄호로 겹쳐진 인자값 {1212} 를 출력하려면?\n",
        "s='This is value {{{0}}}'.format(1212)\n",
        "print(s)"
      ],
      "metadata": {
        "id": "3zceHvEfWYnz"
      },
      "execution_count": null,
      "outputs": []
    },
    {
      "cell_type": "code",
      "source": [
        "# 정수 N자리\n",
        "s='정수 3자리 : {0:03d}, {1:03d}'.format(12345,12)\n",
        "print(s)\n",
        "\n",
        "# 소수점 N자리\n",
        "s='아래 2자리 : {0:0.2f}, 아래 5자리 : {1:0.5f}'.format(123.1234567,3.14)\n",
        "print(s)"
      ],
      "metadata": {
        "id": "PxZyq_lVWf-8"
      },
      "execution_count": null,
      "outputs": []
    },
    {
      "cell_type": "markdown",
      "source": [
        "% 사용"
      ],
      "metadata": {
        "id": "5-BYrc3fWtjk"
      }
    },
    {
      "cell_type": "code",
      "source": [
        "# % 기호 문자 출력\n",
        "name = 'kim'\n",
        "print('my name is %s' % name)\n",
        "\n",
        "# % 기호 정수 출력\n",
        "money = 10000\n",
        "s = 'give me %d won' % money\n",
        "print(s)\n",
        "\n",
        "# % 기호 실수 출력\n",
        "d = 3.141592\n",
        "print('value %f' % d)\n",
        "\n",
        "# 출력해야할 값이 두개 이상인 경우 () 를 이용\n",
        "s1 = 'my name is %s. age : %d' % ('blockdmask', 100)\n",
        "print(s1)"
      ],
      "metadata": {
        "id": "09Cpd8nOWlkb"
      },
      "execution_count": null,
      "outputs": []
    },
    {
      "cell_type": "markdown",
      "source": [
        "f-string사용"
      ],
      "metadata": {
        "id": "0ZX_FqpOWxcR"
      }
    },
    {
      "cell_type": "code",
      "source": [
        "# 문자열 맨 앞에 f를 붙이고, 출력할 변수, 값을 중괄호 안에\n",
        "s='coffee'\n",
        "n=5\n",
        "result1 = f'저는 {s}를 좋아합니다. 하루 {n}잔 마셔요.'\n",
        "print(result1)"
      ],
      "metadata": {
        "id": "njnXrxQVWpU-"
      },
      "execution_count": null,
      "outputs": []
    },
    {
      "cell_type": "code",
      "source": [
        "# f-string 중괄호 출력\n",
        "num = 10\n",
        "result = f'my age {{{num}}}, {{num}}'\n",
        "print(result)"
      ],
      "metadata": {
        "id": "IJVEn29ZXCXt"
      },
      "execution_count": null,
      "outputs": []
    }
  ]
}